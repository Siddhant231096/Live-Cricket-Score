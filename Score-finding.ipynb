{
 "cells": [
  {
   "cell_type": "code",
   "execution_count": 1,
   "metadata": {},
   "outputs": [
    {
     "name": "stdout",
     "output_type": "stream",
     "text": [
      "Collecting pycricbuzz\n",
      "  Downloading https://files.pythonhosted.org/packages/a4/f5/f7e1127f92816e5f6e9e375dad3438e427f6add52f5a801d3ecc25729419/pycricbuzz-2.4-py2.py3-none-any.whl\n",
      "Requirement already satisfied: requests in c:\\anaconda\\lib\\site-packages (from pycricbuzz) (2.18.4)\n",
      "Requirement already satisfied: chardet<3.1.0,>=3.0.2 in c:\\anaconda\\lib\\site-packages (from requests->pycricbuzz) (3.0.4)\n",
      "Requirement already satisfied: idna<2.7,>=2.5 in c:\\anaconda\\lib\\site-packages (from requests->pycricbuzz) (2.6)\n",
      "Requirement already satisfied: urllib3<1.23,>=1.21.1 in c:\\anaconda\\lib\\site-packages (from requests->pycricbuzz) (1.22)\n",
      "Requirement already satisfied: certifi>=2017.4.17 in c:\\anaconda\\lib\\site-packages (from requests->pycricbuzz) (2018.1.18)\n",
      "Installing collected packages: pycricbuzz\n",
      "Successfully installed pycricbuzz-2.4\n"
     ]
    }
   ],
   "source": [
    "!pip3 install pycricbuzz\n"
   ]
  },
  {
   "cell_type": "code",
   "execution_count": 30,
   "metadata": {},
   "outputs": [],
   "source": [
    "from pycricbuzz import Cricbuzz"
   ]
  },
  {
   "cell_type": "code",
   "execution_count": 31,
   "metadata": {},
   "outputs": [],
   "source": [
    "c=Cricbuzz()"
   ]
  },
  {
   "cell_type": "code",
   "execution_count": 32,
   "metadata": {},
   "outputs": [],
   "source": [
    "matche=c.matches()"
   ]
  },
  {
   "cell_type": "code",
   "execution_count": 38,
   "metadata": {},
   "outputs": [],
   "source": [
    "matche=c.matchinfo('20244')"
   ]
  },
  {
   "cell_type": "code",
   "execution_count": 39,
   "metadata": {},
   "outputs": [
    {
     "data": {
      "text/plain": [
       "'20244'"
      ]
     },
     "execution_count": 39,
     "metadata": {},
     "output_type": "execute_result"
    }
   ],
   "source": [
    "matche['id']"
   ]
  },
  {
   "cell_type": "code",
   "execution_count": 5,
   "metadata": {
    "scrolled": true
   },
   "outputs": [
    {
     "data": {
      "text/plain": [
       "['20246',\n",
       " '20247',\n",
       " '20245',\n",
       " '21633',\n",
       " '21690',\n",
       " '21695',\n",
       " '21696',\n",
       " '22562',\n",
       " '21693',\n",
       " '21688']"
      ]
     },
     "execution_count": 5,
     "metadata": {},
     "output_type": "execute_result"
    }
   ],
   "source": [
    "list1=[]\n",
    "for i in range(len(matche)):\n",
    "    list1.append(matche[i]['id'])\n",
    "\n",
    "\n",
    "list1"
   ]
  },
  {
   "cell_type": "code",
   "execution_count": 6,
   "metadata": {},
   "outputs": [
    {
     "data": {
      "text/plain": [
       "{'id': '20244',\n",
       " 'mchstate': 'mom',\n",
       " 'mnum': 'Match 8',\n",
       " 'official': {'referee': {'country': 'SL',\n",
       "   'id': '3513',\n",
       "   'name': 'Ranjan Madugalle'},\n",
       "  'umpire1': {'country': 'ENG', 'id': '6866', 'name': 'Richard Kettleborough'},\n",
       "  'umpire2': {'country': 'ENG', 'id': '8034', 'name': 'Michael Gough'},\n",
       "  'umpire3': {'country': 'ENG', 'id': '5398', 'name': 'Richard Illingworth'}},\n",
       " 'srs': 'ICC Cricket World Cup 2019',\n",
       " 'start_time': '2019-06-05 15:00:00',\n",
       " 'status': 'IND won by 6 wkts',\n",
       " 'team1': {'name': 'South Africa',\n",
       "  'squad': ['de Kock',\n",
       "   'Amla',\n",
       "   'du Plessis',\n",
       "   'van der Dussen',\n",
       "   'Miller',\n",
       "   'Duminy',\n",
       "   'Phehlukwayo',\n",
       "   'Chris Morris',\n",
       "   'Rabada',\n",
       "   'Tahir',\n",
       "   'Shamsi'],\n",
       "  'squad_bench': ['Pretorius', 'Hendricks', 'Markram']},\n",
       " 'team2': {'name': 'India',\n",
       "  'squad': ['Rohit',\n",
       "   'Dhawan',\n",
       "   'Kohli',\n",
       "   'Rahul',\n",
       "   'Dhoni',\n",
       "   'Kedar Jadhav',\n",
       "   'Hardik Pandya',\n",
       "   'Bhuvneshwar',\n",
       "   'Kuldeep Yadav',\n",
       "   'Chahal',\n",
       "   'Bumrah'],\n",
       "  'squad_bench': ['Karthik', 'Shankar', 'Jadeja', 'Shami']},\n",
       " 'toss': 'South Africa elect to bat',\n",
       " 'type': 'ODI',\n",
       " 'venue_location': 'Southampton, England',\n",
       " 'venue_name': 'The Rose Bowl'}"
      ]
     },
     "execution_count": 6,
     "metadata": {},
     "output_type": "execute_result"
    }
   ],
   "source": [
    "c.matchinfo('20244')"
   ]
  },
  {
   "cell_type": "code",
   "execution_count": 42,
   "metadata": {},
   "outputs": [
    {
     "data": {
      "text/plain": [
       "'South Africa'"
      ]
     },
     "execution_count": 42,
     "metadata": {},
     "output_type": "execute_result"
    }
   ],
   "source": [
    "matche['team1']['name']"
   ]
  },
  {
   "cell_type": "code",
   "execution_count": 74,
   "metadata": {},
   "outputs": [
    {
     "data": {
      "text/plain": [
       "'230'"
      ]
     },
     "execution_count": 74,
     "metadata": {},
     "output_type": "execute_result"
    }
   ],
   "source": [
    "c.scorecard('20244')['scorecard'][0]['runs']"
   ]
  },
  {
   "cell_type": "code",
   "execution_count": 78,
   "metadata": {},
   "outputs": [
    {
     "data": {
      "text/plain": [
       "{'batcard': [{'balls': '12',\n",
       "   'dismissal': 'c de Kock b Rabada',\n",
       "   'fours': '1',\n",
       "   'name': 'Dhawan',\n",
       "   'runs': '8',\n",
       "   'six': '0'},\n",
       "  {'balls': '144',\n",
       "   'dismissal': 'not out',\n",
       "   'fours': '13',\n",
       "   'name': 'Rohit',\n",
       "   'runs': '122',\n",
       "   'six': '2'},\n",
       "  {'balls': '34',\n",
       "   'dismissal': 'c de Kock b Phehlukwayo',\n",
       "   'fours': '1',\n",
       "   'name': 'Kohli',\n",
       "   'runs': '18',\n",
       "   'six': '0'},\n",
       "  {'balls': '42',\n",
       "   'dismissal': 'c du Plessis b Rabada',\n",
       "   'fours': '2',\n",
       "   'name': 'Rahul',\n",
       "   'runs': '26',\n",
       "   'six': '0'},\n",
       "  {'balls': '46',\n",
       "   'dismissal': ' c & b Chris Morris',\n",
       "   'fours': '2',\n",
       "   'name': 'Dhoni',\n",
       "   'runs': '34',\n",
       "   'six': '0'},\n",
       "  {'balls': '7',\n",
       "   'dismissal': 'not out',\n",
       "   'fours': '3',\n",
       "   'name': 'Hardik Pandya',\n",
       "   'runs': '15',\n",
       "   'six': '0'}],\n",
       " 'batteam': 'India',\n",
       " 'bowlcard': [{'maidens': '0',\n",
       "   'name': 'Tahir',\n",
       "   'nballs': '0',\n",
       "   'overs': '10',\n",
       "   'runs': '58',\n",
       "   'wickets': '0',\n",
       "   'wides': '0'},\n",
       "  {'maidens': '1',\n",
       "   'name': 'Rabada',\n",
       "   'nballs': '0',\n",
       "   'overs': '10',\n",
       "   'runs': '39',\n",
       "   'wickets': '2',\n",
       "   'wides': '1'},\n",
       "  {'maidens': '3',\n",
       "   'name': 'Chris Morris',\n",
       "   'nballs': '0',\n",
       "   'overs': '10',\n",
       "   'runs': '36',\n",
       "   'wickets': '1',\n",
       "   'wides': '1'},\n",
       "  {'maidens': '0',\n",
       "   'name': 'Phehlukwayo',\n",
       "   'nballs': '0',\n",
       "   'overs': '8.3',\n",
       "   'runs': '40',\n",
       "   'wickets': '1',\n",
       "   'wides': '1'},\n",
       "  {'maidens': '0',\n",
       "   'name': 'Shamsi',\n",
       "   'nballs': '0',\n",
       "   'overs': '9',\n",
       "   'runs': '54',\n",
       "   'wickets': '0',\n",
       "   'wides': '1'}],\n",
       " 'bowlteam': 'South Africa',\n",
       " 'extras': {'byes': '0',\n",
       "  'lbyes': '3',\n",
       "  'nballs': '0',\n",
       "  'penalty': '0',\n",
       "  'total': '7',\n",
       "  'wides': '4'},\n",
       " 'fall_wickets': [{'name': 'Dhawan',\n",
       "   'overs': '5.1',\n",
       "   'score': '13',\n",
       "   'wkt_num': '1'},\n",
       "  {'name': 'Kohli', 'overs': '15.3', 'score': '54', 'wkt_num': '2'},\n",
       "  {'name': 'Rahul', 'overs': '31.3', 'score': '139', 'wkt_num': '3'},\n",
       "  {'name': 'Dhoni', 'overs': '46.1', 'score': '213', 'wkt_num': '4'}],\n",
       " 'inng_num': '2',\n",
       " 'overs': '47.3',\n",
       " 'runs': '230',\n",
       " 'wickets': '4'}"
      ]
     },
     "execution_count": 78,
     "metadata": {},
     "output_type": "execute_result"
    }
   ],
   "source": [
    "c.scorecard('20244')['scorecard'][0]"
   ]
  },
  {
   "cell_type": "code",
   "execution_count": 26,
   "metadata": {},
   "outputs": [
    {
     "name": "stdout",
     "output_type": "stream",
     "text": [
      "Dhawan  -- 8\n",
      "Rohit  -- 122\n",
      "Kohli  -- 18\n",
      "Rahul  -- 26\n",
      "Dhoni  -- 34\n",
      "Hardik Pandya  -- 15\n"
     ]
    }
   ],
   "source": [
    "for i in range(len(c.scorecard('20244')['scorecard'][0]['batcard'])):\n",
    "    print(c.scorecard('20244')['scorecard'][0]['batcard'][i]['name'],\" -- \",end='')\n",
    "    print(c.scorecard('20244')['scorecard'][0]['batcard'][i]['runs'])"
   ]
  },
  {
   "cell_type": "code",
   "execution_count": 18,
   "metadata": {},
   "outputs": [
    {
     "data": {
      "text/plain": [
       "'8'"
      ]
     },
     "execution_count": 18,
     "metadata": {},
     "output_type": "execute_result"
    }
   ],
   "source": [
    "\n",
    "c.scorecard('20244')['scorecard'][0]['batcard'][0]['runs']"
   ]
  },
  {
   "cell_type": "code",
   "execution_count": 7,
   "metadata": {},
   "outputs": [
    {
     "data": {
      "text/plain": [
       "{'batting': {'batsman': [{'balls': '7',\n",
       "    'fours': '3',\n",
       "    'name': 'Hardik Pandya',\n",
       "    'runs': '15',\n",
       "    'six': '0'},\n",
       "   {'balls': '144',\n",
       "    'fours': '13',\n",
       "    'name': 'Rohit',\n",
       "    'runs': '122',\n",
       "    'six': '2'}],\n",
       "  'score': [{'declare': None,\n",
       "    'inning_num': '2',\n",
       "    'overs': '47.3',\n",
       "    'runs': '230',\n",
       "    'wickets': '4'}],\n",
       "  'team': 'India'},\n",
       " 'bowling': {'bowler': [{'maidens': '0',\n",
       "    'name': 'Phehlukwayo',\n",
       "    'overs': '8.3',\n",
       "    'runs': '40',\n",
       "    'wickets': '1'}],\n",
       "  'score': [{'declare': None,\n",
       "    'inning_num': '1',\n",
       "    'overs': '50',\n",
       "    'runs': '227',\n",
       "    'wickets': '9'}],\n",
       "  'team': 'South Africa'}}"
      ]
     },
     "execution_count": 7,
     "metadata": {},
     "output_type": "execute_result"
    }
   ],
   "source": [
    "score=c.livescore('20244')['batting']"
   ]
  },
  {
   "cell_type": "code",
   "execution_count": 52,
   "metadata": {},
   "outputs": [
    {
     "name": "stdout",
     "output_type": "stream",
     "text": [
      "Tahir\n",
      "58\n",
      "10\n",
      "0\n"
     ]
    }
   ],
   "source": [
    "print(c.scorecard('20244')['scorecard'][0]['bowlcard'][0]['name'])\n",
    "print(c.scorecard('20244')['scorecard'][0]['bowlcard'][0]['runs'])\n",
    "print(c.scorecard('20244')['scorecard'][0]['bowlcard'][0]['overs'])\n",
    "print(c.scorecard('20244')['scorecard'][0]['bowlcard'][0]['wickets'])\n",
    "\n"
   ]
  },
  {
   "cell_type": "code",
   "execution_count": null,
   "metadata": {},
   "outputs": [],
   "source": [
    "score"
   ]
  },
  {
   "cell_type": "code",
   "execution_count": 79,
   "metadata": {},
   "outputs": [
    {
     "name": "stdout",
     "output_type": "stream",
     "text": [
      "Series -->>  ICC Cricket World Cup 2019\n",
      "Match -->>  South Africa  Vs  India \n",
      "\n",
      "\n",
      "India  -  230 / 4                       South Africa  -  227 / 9\n",
      "@@@@@@@@@@@@@@@@@@@@@@@@@@@@@@@@@@@@@@@@@@@@@@  \n",
      "\n",
      "\n",
      "Win -->>  IND won by 6 wkts \n",
      "\n",
      "\n",
      "@@@@@@@@@@@@@@@@@@@@@@@@@@@@@@@@@@@@@@@@@@@@@@   \n",
      "\n",
      "\n",
      "Team -->>  South Africa\n",
      "Squad -->>  ['de Kock', 'Amla', 'du Plessis', 'van der Dussen', 'Miller', 'Duminy', 'Phehlukwayo', 'Chris Morris', 'Rabada', 'Tahir', 'Shamsi']\n",
      "Team -->>  India\n",
      "Squad -->>  ['Rohit', 'Dhawan', 'Kohli', 'Rahul', 'Dhoni', 'Kedar Jadhav', 'Hardik Pandya', 'Bhuvneshwar', 'Kuldeep Yadav', 'Chahal', 'Bumrah']\n",
      "--------------------------------------------------------\n",
      "Team  India  Batting\n",
      "Dhawan  -- 8\n",
      "Rohit  -- 122\n",
      "Kohli  -- 18\n",
      "Rahul  -- 26\n",
      "Dhoni  -- 34\n",
      "Hardik Pandya  -- 15\n",
      "--------------------------------------------------------\n",
      "Team  South Africa  Batting\n",
      "Amla  -- 6\n",
      "de Kock  -- 10\n",
      "du Plessis  -- 38\n",
      "van der Dussen  -- 22\n",
      "Miller  -- 31\n",
      "Duminy  -- 3\n",
      "Phehlukwayo  -- 34\n",
      "Chris Morris  -- 42\n",
      "Rabada  -- 31\n",
      "Tahir  -- 0\n",
      "--------------------------------------------------------\n",
      "Team  South Africa  Bowling\n",
      "name -  Tahir  runs -  58  overs -  10  wickets -  0\n",
      "name -  Rabada  runs -  39  overs -  10  wickets -  2\n",
      "name -  Chris Morris  runs -  36  overs -  10  wickets -  1\n",
      "name -  Phehlukwayo  runs -  40  overs -  8.3  wickets -  1\n",
      "name -  Shamsi  runs -  54  overs -  9  wickets -  0\n",
      "--------------------------------------------------------\n",
      "Team  India  Bowling\n",
      "name -  Bhuvneshwar  runs -  44  overs -  10  wickets -  2\n",
      "name -  Bumrah  runs -  35  overs -  10  wickets -  2\n",
      "name -  Hardik Pandya  runs -  31  overs -  6  wickets -  0\n",
      "name -  Kuldeep Yadav  runs -  46  overs -  10  wickets -  1\n",
      "name -  Chahal  runs -  51  overs -  10  wickets -  4\n",
      "name -  Kedar Jadhav  runs -  16  overs -  4  wickets -  0\n"
     ]
    }
   ],
   "source": [
    "print('Series -->> ',matche['srs'])\n",
    "#print('Match Status -->> ',matche['mchstate'])\n",
    "print('Match -->> ',matche['team1']['name'],' Vs ',matche['team2']['name'],'\\n\\n')\n",
    "print(matche['team2']['name'],' - ',c.scorecard('20244')['scorecard'][0]['runs'],'/',c.scorecard('20244')['scorecard'][0]['wickets'],'                     ',matche['team1']['name'],' - ',c.scorecard('20244')['scorecard'][1]['runs'],'/',c.scorecard('20244')['scorecard'][1]['wickets'])\n",
    "\n",
    "print('@@@@@@@@@@@@@@@@@@@@@@@@@@@@@@@@@@@@@@@@@@@@@@  \\n\\n')\n",
    "print('Win -->> ',matche['status'],'\\n\\n')\n",
    "print('@@@@@@@@@@@@@@@@@@@@@@@@@@@@@@@@@@@@@@@@@@@@@@   \\n\\n')\n",
    "print('Team -->> ',matche['team1']['name'])\n",
    "print('Squad -->> ',matche['team1']['squad'])\n",
    "print('Team -->> ',matche['team2']['name'])\n",
    "print('Squad -->> ',matche['team2']['squad'])\n",
    "print('--------------------------------------------------------')\n",
    "\n",
    "\n",
    "print('Team ',matche['team2']['name'],' Batting')\n",
    "for i in range(len(c.scorecard('20244')['scorecard'][0]['batcard'])):\n",
    "    print(c.scorecard('20244')['scorecard'][0]['batcard'][i]['name'],\" -- \",end='')\n",
    "    print(c.scorecard('20244')['scorecard'][0]['batcard'][i]['runs'])\n",
    "\n",
    "print('--------------------------------------------------------')\n",
    "\n",
    "print('Team ',matche['team1']['name'],' Batting')\n",
    "for i in range(len(c.scorecard('20244')['scorecard'][1]['batcard'])):\n",
    "    print(c.scorecard('20244')['scorecard'][1]['batcard'][i]['name'],\" -- \",end='')\n",
    "    print(c.scorecard('20244')['scorecard'][1]['batcard'][i]['runs'])\n",
    "    \n",
    "print('--------------------------------------------------------')\n",
    "\n",
    "print('Team ',matche['team1']['name'],' Bowling')\n",
    "for i in range(len(c.scorecard('20244')['scorecard'][0]['bowlcard'])):\n",
    "    print('name - ',c.scorecard('20244')['scorecard'][0]['bowlcard'][i]['name'],' runs - ',c.scorecard('20244')['scorecard'][0]['bowlcard'][i]['runs'],' overs - ',c.scorecard('20244')['scorecard'][0]['bowlcard'][i]['overs'],' wickets - ',c.scorecard('20244')['scorecard'][0]['bowlcard'][i]['wickets'])\n",
    "\n",
    "\n",
    "print('--------------------------------------------------------')\n",
    "\n",
    "print('Team ',matche['team2']['name'],' Bowling')\n",
    "\n",
    "for i in range(len(c.scorecard('20244')['scorecard'][1]['bowlcard'])):\n",
    "    print('name - ',c.scorecard('20244')['scorecard'][1]['bowlcard'][i]['name'],' runs - ',c.scorecard('20244')['scorecard'][1]['bowlcard'][i]['runs'],' overs - ',c.scorecard('20244')['scorecard'][1]['bowlcard'][i]['overs'],' wickets - ',c.scorecard('20244')['scorecard'][1]['bowlcard'][i]['wickets'])\n"
   ]
  },
  {
   "cell_type": "code",
   "execution_count": 9,
   "metadata": {},
   "outputs": [
    {
     "name": "stdout",
     "output_type": "stream",
     "text": [
      "Match\n",
      "South Africa  Vs  India\n"
     ]
    }
   ],
   "source": []
  },
  {
   "cell_type": "code",
   "execution_count": 16,
   "metadata": {},
   "outputs": [
    {
     "name": "stdout",
     "output_type": "stream",
     "text": [
      "Win -- \n",
      "IND won by 6 wkts\n"
     ]
    }
   ],
   "source": []
  },
  {
   "cell_type": "code",
   "execution_count": 10,
   "metadata": {},
   "outputs": [
    {
     "data": {
      "text/plain": [
       "'India'"
      ]
     },
     "execution_count": 10,
     "metadata": {},
     "output_type": "execute_result"
    }
   ],
   "source": [
    "matche[0]['team2']['name']"
   ]
  },
  {
   "cell_type": "code",
   "execution_count": 11,
   "metadata": {},
   "outputs": [
    {
     "name": "stdout",
     "output_type": "stream",
     "text": [
      "Series --  ICC Cricket World Cup 2019\n"
     ]
    }
   ],
   "source": [
    "print('Series -- ',matche[0]['srs'])"
   ]
  },
  {
   "cell_type": "code",
   "execution_count": 15,
   "metadata": {},
   "outputs": [
    {
     "name": "stdout",
     "output_type": "stream",
     "text": [
      "Team --  South Africa\n",
      "Squad --  ['de Kock', 'Amla', 'du Plessis', 'van der Dussen', 'Miller', 'Duminy', 'Phehlukwayo', 'Chris Morris', 'Rabada', 'Tahir', 'Shamsi']\n"
     ]
    }
   ],
   "source": [
    "print('Team -- ',matche[0]['team1']['name'])\n",
    "print('Squad -- ',matche[0]['team1']['squad'])"
   ]
  },
  {
   "cell_type": "code",
   "execution_count": 13,
   "metadata": {},
   "outputs": [
    {
     "name": "stdout",
     "output_type": "stream",
     "text": [
      "Team --  India\n",
      "Squad --  ['Rohit', 'Dhawan', 'Kohli', 'Rahul', 'Dhoni', 'Kedar Jadhav', 'Hardik Pandya', 'Bhuvneshwar', 'Kuldeep Yadav', 'Chahal', 'Bumrah']\n"
     ]
    }
   ],
   "source": [
    "print('Team -- ',matche[0]['team2']['name'])\n",
    "print('Squad -- ',matche[0]['team2']['squad'])"
   ]
  },
  {
   "cell_type": "code",
   "execution_count": 14,
   "metadata": {},
   "outputs": [
    {
     "data": {
      "text/plain": [
       "['__class__',\n",
       " '__delattr__',\n",
       " '__dict__',\n",
       " '__dir__',\n",
       " '__doc__',\n",
       " '__eq__',\n",
       " '__format__',\n",
       " '__ge__',\n",
       " '__getattribute__',\n",
       " '__gt__',\n",
       " '__hash__',\n",
       " '__init__',\n",
       " '__init_subclass__',\n",
       " '__le__',\n",
       " '__lt__',\n",
       " '__module__',\n",
       " '__ne__',\n",
       " '__new__',\n",
       " '__reduce__',\n",
       " '__reduce_ex__',\n",
       " '__repr__',\n",
       " '__setattr__',\n",
       " '__sizeof__',\n",
       " '__str__',\n",
       " '__subclasshook__',\n",
       " '__weakref__',\n",
       " 'commentary',\n",
       " 'crawl_url',\n",
       " 'find_match',\n",
       " 'livescore',\n",
       " 'matches',\n",
       " 'matchinfo',\n",
       " 'players_mapping',\n",
       " 'scorecard']"
      ]
     },
     "execution_count": 14,
     "metadata": {},
     "output_type": "execute_result"
    }
   ],
   "source": [
    "dir(c)"
   ]
  },
  {
   "cell_type": "code",
   "execution_count": null,
   "metadata": {},
   "outputs": [],
   "source": []
  }
 ],
 "metadata": {
  "kernelspec": {
   "display_name": "Python 3",
   "language": "python",
   "name": "python3"
  },
  "language_info": {
   "codemirror_mode": {
    "name": "ipython",
    "version": 3
   },
   "file_extension": ".py",
   "mimetype": "text/x-python",
   "name": "python",
   "nbconvert_exporter": "python",
   "pygments_lexer": "ipython3",
   "version": "3.6.4"
  }
 },
 "nbformat": 4,
 "nbformat_minor": 2
}
